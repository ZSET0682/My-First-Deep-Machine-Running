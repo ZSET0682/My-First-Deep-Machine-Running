{
 "cells": [
  {
   "cell_type": "code",
   "execution_count": 683,
   "id": "d666523d",
   "metadata": {},
   "outputs": [],
   "source": [
    "# 임포트할 모듈 정리\n",
    "from PIL import Image\n",
    "from keras.callbacks import ReduceLROnPlateau\n",
    "import keras\n",
    "import numpy as np\n",
    "import matplotlib.pyplot as plt\n",
    "import glob\n",
    "import os"
   ]
  },
  {
   "cell_type": "code",
   "execution_count": 889,
   "id": "c904c653",
   "metadata": {},
   "outputs": [],
   "source": [
    "# 함수 부분!\n",
    "def resize_images(img_path):  # 28*28이 아닌 사진파일들을 변환해 주는 함수입니다!\n",
    "    images=glob.glob(img_path + \"/*.jpg\")  \n",
    "    print(len(images), \" images to be resized.\")\n",
    "    # 파일마다 모두 28x28 사이즈로 바꾸어 저장합니다.\n",
    "    target_size=(28,28)\n",
    "    for img in images:\n",
    "        old_img=Image.open(img)\n",
    "        new_img=old_img.resize(target_size,Image.ANTIALIAS)\n",
    "        new_img.save(img, \"JPEG\")\n",
    "    print(len(images), \" images resized.\")\n",
    "\n",
    "\n",
    "def load_data(img_path, number_of_data=300):  # x_train, y_train 에 데이터를 넣어주는 함수입니다!\n",
    "    # 가위 : 0, 바위 : 1, 보 : 2\n",
    "    img_size=28\n",
    "    color=3\n",
    "    #이미지 데이터와 라벨(가위 : 0, 바위 : 1, 보 : 2) 데이터를 담을 행렬(matrix) 영역을 생성합니다.\n",
    "    imgs=np.zeros(number_of_data*img_size*img_size*color,dtype=np.int32).reshape(number_of_data,img_size,img_size,color)\n",
    "    labels=np.zeros(number_of_data,dtype=np.int32)\n",
    "    idx=0\n",
    "    for file in glob.iglob(img_path+'/scissor/*.jpg'):\n",
    "        img = np.array(Image.open(file),dtype=np.int32)\n",
    "        imgs[idx,:,:,:]=img    # 데이터 영역에 이미지 행렬을 복사\n",
    "        labels[idx]=0   # 가위 : 0\n",
    "        idx=idx+1\n",
    "\n",
    "    for file in glob.iglob(img_path+'/rock/*.jpg'):\n",
    "        img = np.array(Image.open(file),dtype=np.int32)\n",
    "        imgs[idx,:,:,:]=img    # 데이터 영역에 이미지 행렬을 복사\n",
    "        labels[idx]=1   # 바위 : 1\n",
    "        idx=idx+1  \n",
    "    \n",
    "    for file in glob.iglob(img_path+'/paper/*.jpg'):\n",
    "        img = np.array(Image.open(file),dtype=np.int32)\n",
    "        imgs[idx,:,:,:]=img    # 데이터 영역에 이미지 행렬을 복사\n",
    "        labels[idx]=2   # 보 : 2\n",
    "        idx=idx+1\n",
    "    print(\"학습데이터의 이미지 개수는\", idx,\"입니다.\")\n",
    "    return imgs, labels\n",
    "\n",
    "\n",
    "def set_model():  # 사용 모델을 설정하고 하이퍼 피라미터를 설정 합니다.\n",
    "# https://junstar92.tistory.com/102\n",
    "# https://wikidocs.net/61374\n",
    "# https://studyfield.tistory.com/652\n",
    "    # 모델 설계\n",
    "    model=keras.models.Sequential()\n",
    "    model.add(keras.layers.Conv2D(16, (3,3), activation='relu', input_shape=(28,28,3), kernel_regularizer=keras.regularizers.l2(0.001)))\n",
    "    model.add(keras.layers.Dropout(0.1))\n",
    "    model.add(keras.layers.MaxPooling2D(2,2))\n",
    "    \n",
    "    model.add(keras.layers.Conv2D(32, (3,3), activation='relu'))\n",
    "    model.add(keras.layers.Dropout(0.1))\n",
    "    model.add(keras.layers.MaxPooling2D((2,2)))\n",
    "    \n",
    "    model.add(keras.layers.Conv2D(64, (3,3), activation='relu'))\n",
    "    model.add(keras.layers.MaxPooling2D((2,2)))\n",
    "    \n",
    "    model.add(keras.layers.Flatten())\n",
    "    model.add(keras.layers.Dense(3, activation='softmax'))\n",
    "    \n",
    "    # 모델 개요\n",
    "    model.summary()\n",
    "    return model\n",
    "\n",
    "\n",
    "def edu_model(model, x_train, y_train):  # 선정한 모델으로 학습을 시작합니다.\n",
    "    model.compile(optimizer='adam', loss='sparse_categorical_crossentropy', metrics=['accuracy'])\n",
    "    \n",
    "    model.fit(x_train_norm, y_train, validation_split=0.3, epochs=30)\n",
    "\n",
    "def test_model(model):  # 학습이 잘 되었는지 다른종류의 가위바위보 사진을 통해 검증해 봅시다!(tesorflow 공식 가위바위보 이미지파일)\n",
    "    test_loss, test_accuracy = model.evaluate(x_test_norm,y_test, verbose=2)\n",
    "    print(\"test_loss: {} \".format(test_loss))\n",
    "    print(\"test_accuracy: {}\".format(test_accuracy))"
   ]
  },
  {
   "cell_type": "code",
   "execution_count": 883,
   "id": "2b1c04bf",
   "metadata": {},
   "outputs": [
    {
     "name": "stdout",
     "output_type": "stream",
     "text": [
      "/aiffel/rock_scissor_paper/scissor\n",
      "200  images to be resized.\n",
      "200  images resized.\n",
      "/aiffel/rock_scissor_paper/rock\n",
      "200  images to be resized.\n",
      "200  images resized.\n",
      "/aiffel/rock_scissor_paper/paper\n",
      "200  images to be resized.\n",
      "200  images resized.\n",
      "/aiffel/rock_scissor_paper/test/scissor\n",
      "124  images to be resized.\n",
      "124  images resized.\n",
      "/aiffel/rock_scissor_paper/test/rock\n",
      "124  images to be resized.\n",
      "124  images resized.\n",
      "/aiffel/rock_scissor_paper/test/paper\n",
      "124  images to be resized.\n",
      "124  images resized.\n"
     ]
    }
   ],
   "source": [
    "# resize_images()\n",
    "path = [\"/aiffel/rock_scissor_paper/scissor\", \"/aiffel/rock_scissor_paper/rock\", \"/aiffel/rock_scissor_paper/paper\",  # 가위 이미지가 저장된 디렉토리! 여러번 쓰기 싫어용~ (테스트 포함)\n",
    "    \"/aiffel/rock_scissor_paper/test/scissor\", \"/aiffel/rock_scissor_paper/test/rock\", \"/aiffel/rock_scissor_paper/test/paper\"]\n",
    "for path in path:\n",
    "    print(path)\n",
    "    image_dir_path = os.getenv(\"HOME\") + path\n",
    "    resize_images(image_dir_path)\n",
    "    "
   ]
  },
  {
   "cell_type": "code",
   "execution_count": 884,
   "id": "ad279877",
   "metadata": {},
   "outputs": [
    {
     "name": "stdout",
     "output_type": "stream",
     "text": [
      "학습데이터의 이미지 개수는 600 입니다.\n",
      "x_train shape: (3000, 28, 28, 3)\n",
      "y_train shape: (3000,)\n",
      "학습데이터의 이미지 개수는 372 입니다.\n",
      "x_test shape: (372, 28, 28, 3)\n",
      "y_test shape: (372,)\n"
     ]
    }
   ],
   "source": [
    "# load_data()\n",
    "image_dir_path = os.getenv(\"HOME\") + \"/aiffel/rock_scissor_paper\" # 일반 데이터\n",
    "(x_train, y_train)=load_data(image_dir_path,3000)\n",
    "x_train_norm = x_train/255.0   # 입력은 0~1 사이의 값으로 정규화\n",
    "print(\"x_train shape: {}\".format(x_train.shape))\n",
    "print(\"y_train shape: {}\".format(y_train.shape))\n",
    "\n",
    "test_image_dir_path = os.getenv(\"HOME\") + \"/aiffel/rock_scissor_paper/test\" # 테스트용 데이터\n",
    "(x_test, y_test)=load_data(test_image_dir_path,372)\n",
    "x_test_norm = x_test/255.0   # 입력은 0~1 사이의 값으로 정규화\n",
    "print(\"x_test shape: {}\".format(x_test.shape))\n",
    "print(\"y_test shape: {}\".format(y_test.shape))"
   ]
  },
  {
   "cell_type": "code",
   "execution_count": 885,
   "id": "d56931d2",
   "metadata": {},
   "outputs": [
    {
     "data": {
      "image/png": "[encoded data removed]",
      "text/plain": [
       "<Figure size 432x288 with 1 Axes>"
      ]
     },
     "metadata": {
      "needs_background": "light"
     },
     "output_type": "display_data"
    },
    {
     "data": {
      "image/png": "[encoded data removed]",
      "text/plain": [
       "<Figure size 432x288 with 1 Axes>"
      ]
     },
     "metadata": {
      "needs_background": "light"
     },
     "output_type": "display_data"
    }
   ],
   "source": [
    "# 시험용 이미지가 잘 들어왔는지 출력해 봅시다!\n",
    "plt.imshow(x_train[0])\n",
    "plt.show()\n",
    "# 검증용 테스트 이미지가 잘 들어왔는지도 출력해 봅시다!\n",
    "plt.imshow(x_test[0])\n",
    "plt.show()"
   ]
  },
  {
   "cell_type": "code",
   "execution_count": 896,
   "id": "e7085433",
   "metadata": {},
   "outputs": [
    {
     "name": "stdout",
     "output_type": "stream",
     "text": [
      "Model: \"sequential_162\"\n",
      "_________________________________________________________________\n",
      "Layer (type)                 Output Shape              Param #   \n",
      "=================================================================\n",
      "conv2d_393 (Conv2D)          (None, 26, 26, 16)        448       \n",
      "_________________________________________________________________\n",
      "dropout_188 (Dropout)        (None, 26, 26, 16)        0         \n",
      "_________________________________________________________________\n",
      "max_pooling2d_373 (MaxPoolin (None, 13, 13, 16)        0         \n",
      "_________________________________________________________________\n",
      "conv2d_394 (Conv2D)          (None, 11, 11, 32)        4640      \n",
      "_________________________________________________________________\n",
      "dropout_189 (Dropout)        (None, 11, 11, 32)        0         \n",
      "_________________________________________________________________\n",
      "max_pooling2d_374 (MaxPoolin (None, 5, 5, 32)          0         \n",
      "_________________________________________________________________\n",
      "conv2d_395 (Conv2D)          (None, 3, 3, 64)          18496     \n",
      "_________________________________________________________________\n",
      "max_pooling2d_375 (MaxPoolin (None, 1, 1, 64)          0         \n",
      "_________________________________________________________________\n",
      "flatten_147 (Flatten)        (None, 64)                0         \n",
      "_________________________________________________________________\n",
      "dense_244 (Dense)            (None, 3)                 195       \n",
      "=================================================================\n",
      "Total params: 23,779\n",
      "Trainable params: 23,779\n",
      "Non-trainable params: 0\n",
      "_________________________________________________________________\n"
     ]
    }
   ],
   "source": [
    "# set_model()\n",
    "model = set_model()"
   ]
  },
  {
   "cell_type": "code",
   "execution_count": 897,
   "id": "ecb08730",
   "metadata": {},
   "outputs": [
    {
     "name": "stdout",
     "output_type": "stream",
     "text": [
      "Epoch 1/30\n",
      "66/66 [==============================] - 1s 6ms/step - loss: 0.7770 - accuracy: 0.8105 - val_loss: 0.0211 - val_accuracy: 1.0000\n",
      "Epoch 2/30\n",
      "66/66 [==============================] - 0s 5ms/step - loss: 0.3152 - accuracy: 0.8243 - val_loss: 0.0044 - val_accuracy: 1.0000\n",
      "Epoch 3/30\n",
      "66/66 [==============================] - 0s 4ms/step - loss: 0.3032 - accuracy: 0.8471 - val_loss: 0.0038 - val_accuracy: 1.0000\n",
      "Epoch 4/30\n",
      "66/66 [==============================] - 0s 4ms/step - loss: 0.2737 - accuracy: 0.8776 - val_loss: 0.0035 - val_accuracy: 1.0000\n",
      "Epoch 5/30\n",
      "66/66 [==============================] - 0s 4ms/step - loss: 0.2620 - accuracy: 0.8786 - val_loss: 0.0032 - val_accuracy: 1.0000\n",
      "Epoch 6/30\n",
      "66/66 [==============================] - 0s 4ms/step - loss: 0.2157 - accuracy: 0.9214 - val_loss: 0.0033 - val_accuracy: 1.0000\n",
      "Epoch 7/30\n",
      "66/66 [==============================] - 0s 4ms/step - loss: 0.1966 - accuracy: 0.9267 - val_loss: 0.0032 - val_accuracy: 1.0000\n",
      "Epoch 8/30\n",
      "66/66 [==============================] - 0s 5ms/step - loss: 0.1568 - accuracy: 0.9543 - val_loss: 0.0032 - val_accuracy: 1.0000\n",
      "Epoch 9/30\n",
      "66/66 [==============================] - 0s 5ms/step - loss: 0.1241 - accuracy: 0.9629 - val_loss: 0.0033 - val_accuracy: 1.0000\n",
      "Epoch 10/30\n",
      "66/66 [==============================] - 0s 4ms/step - loss: 0.1180 - accuracy: 0.9633 - val_loss: 0.0033 - val_accuracy: 1.0000\n",
      "Epoch 11/30\n",
      "66/66 [==============================] - 0s 5ms/step - loss: 0.0936 - accuracy: 0.9695 - val_loss: 0.0034 - val_accuracy: 1.0000\n",
      "Epoch 12/30\n",
      "66/66 [==============================] - 0s 4ms/step - loss: 0.0785 - accuracy: 0.9752 - val_loss: 0.0035 - val_accuracy: 1.0000\n",
      "Epoch 13/30\n",
      "66/66 [==============================] - 0s 5ms/step - loss: 0.0706 - accuracy: 0.9762 - val_loss: 0.0035 - val_accuracy: 1.0000\n",
      "Epoch 14/30\n",
      "66/66 [==============================] - 0s 5ms/step - loss: 0.0646 - accuracy: 0.9819 - val_loss: 0.0036 - val_accuracy: 1.0000\n",
      "Epoch 15/30\n",
      "66/66 [==============================] - 0s 4ms/step - loss: 0.0502 - accuracy: 0.9857 - val_loss: 0.0036 - val_accuracy: 1.0000\n",
      "Epoch 16/30\n",
      "66/66 [==============================] - 0s 5ms/step - loss: 0.0520 - accuracy: 0.9867 - val_loss: 0.0036 - val_accuracy: 1.0000\n",
      "Epoch 17/30\n",
      "66/66 [==============================] - 0s 4ms/step - loss: 0.0499 - accuracy: 0.9852 - val_loss: 0.0037 - val_accuracy: 1.0000\n",
      "Epoch 18/30\n",
      "66/66 [==============================] - 0s 5ms/step - loss: 0.0436 - accuracy: 0.9862 - val_loss: 0.0037 - val_accuracy: 1.0000\n",
      "Epoch 19/30\n",
      "66/66 [==============================] - 0s 5ms/step - loss: 0.0359 - accuracy: 0.9900 - val_loss: 0.0037 - val_accuracy: 1.0000\n",
      "Epoch 20/30\n",
      "66/66 [==============================] - 0s 4ms/step - loss: 0.0419 - accuracy: 0.9886 - val_loss: 0.0038 - val_accuracy: 1.0000\n",
      "Epoch 21/30\n",
      "66/66 [==============================] - 0s 5ms/step - loss: 0.0318 - accuracy: 0.9919 - val_loss: 0.0038 - val_accuracy: 1.0000\n",
      "Epoch 22/30\n",
      "66/66 [==============================] - 0s 5ms/step - loss: 0.0296 - accuracy: 0.9938 - val_loss: 0.0038 - val_accuracy: 1.0000\n",
      "Epoch 23/30\n",
      "66/66 [==============================] - 0s 5ms/step - loss: 0.0242 - accuracy: 0.9967 - val_loss: 0.0039 - val_accuracy: 1.0000\n",
      "Epoch 24/30\n",
      "66/66 [==============================] - 0s 5ms/step - loss: 0.0219 - accuracy: 0.9948 - val_loss: 0.0039 - val_accuracy: 1.0000\n",
      "Epoch 25/30\n",
      "66/66 [==============================] - 0s 5ms/step - loss: 0.0288 - accuracy: 0.9924 - val_loss: 0.0039 - val_accuracy: 1.0000\n",
      "Epoch 26/30\n",
      "66/66 [==============================] - 0s 4ms/step - loss: 0.0196 - accuracy: 0.9967 - val_loss: 0.0039 - val_accuracy: 1.0000\n",
      "Epoch 27/30\n",
      "66/66 [==============================] - 0s 4ms/step - loss: 0.0204 - accuracy: 0.9933 - val_loss: 0.0039 - val_accuracy: 1.0000\n",
      "Epoch 28/30\n",
      "66/66 [==============================] - 0s 5ms/step - loss: 0.0175 - accuracy: 0.9967 - val_loss: 0.0039 - val_accuracy: 1.0000\n",
      "Epoch 29/30\n",
      "66/66 [==============================] - 0s 5ms/step - loss: 0.0176 - accuracy: 0.9962 - val_loss: 0.0039 - val_accuracy: 1.0000\n",
      "Epoch 30/30\n",
      "66/66 [==============================] - 0s 4ms/step - loss: 0.0157 - accuracy: 0.9981 - val_loss: 0.0040 - val_accuracy: 1.0000\n"
     ]
    }
   ],
   "source": [
    "# edu_model()\n",
    "edu_model(model,x_train,y_train)"
   ]
  },
  {
   "cell_type": "code",
   "execution_count": 898,
   "id": "50fcf5af",
   "metadata": {},
   "outputs": [
    {
     "name": "stdout",
     "output_type": "stream",
     "text": [
      "12/12 - 0s - loss: 2.9996 - accuracy: 0.6478\n",
      "test_loss: 2.999584674835205 \n",
      "test_accuracy: 0.647849440574646\n"
     ]
    }
   ],
   "source": [
    "# test_model()\n",
    "test_model(model)"
   ]
  },
  {
   "cell_type": "code",
   "execution_count": null,
   "id": "b147fbc1",
   "metadata": {},
   "outputs": [],
   "source": []
  }
 ],
 "metadata": {
  "kernelspec": {
   "display_name": "Python 3 (ipykernel)",
   "language": "python",
   "name": "python3"
  },
  "language_info": {
   "codemirror_mode": {
    "name": "ipython",
    "version": 3
   },
   "file_extension": ".py",
   "mimetype": "text/x-python",
   "name": "python",
   "nbconvert_exporter": "python",
   "pygments_lexer": "ipython3",
   "version": "3.9.7"
  }
 },
 "nbformat": 4,
 "nbformat_minor": 5
}
